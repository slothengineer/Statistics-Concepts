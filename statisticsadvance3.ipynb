{
 "cells": [
  {
   "cell_type": "markdown",
   "id": "d9122cba-abbe-4b1c-98c9-2bc2db06b2fe",
   "metadata": {},
   "source": [
    "### What is Estimation Statistics? Explain point estimate and interval estimate.\n",
    "\n",
    "Estimation in statistics is the process of using sample data to make educated guesses or predictions about population parameters (characteristics) of interest. Estimation allows us to infer information about a population based on a subset of data collected from that population.\n",
    "\n",
    "There are two main types of estimation in statistics: point estimate and interval estimate.\n",
    "\n",
    "1. **Point Estimate**:\n",
    "A point estimate is a single value that is calculated from the sample data and is used to estimate the true value of a population parameter. This single value provides an approximation of the parameter of interest. For example, if you want to estimate the average height of students in a school, you might calculate the average height of a sample of students and use that as a point estimate for the average height of all students in the school. A common point estimate for the population mean (average) is the sample mean.\n",
    "\n",
    "However, a point estimate does not convey the uncertainty associated with the estimate. It provides only a single value, and we don't know how close or far it might be from the actual population parameter. This is where interval estimation comes in.\n",
    "\n",
    "2. **Interval Estimate**:\n",
    "An interval estimate, also known as a confidence interval, provides a range of values within which the true population parameter is likely to fall, along with a certain level of confidence associated with that range. Instead of providing a single point estimate, an interval estimate accounts for the uncertainty in the estimation process.\n",
    "\n",
    "For example, a 95% confidence interval for the average height of students might be [160 cm, 170 cm]. This means that we are 95% confident that the true average height of all students falls within this interval. The wider the confidence interval, the more uncertainty there is in the estimation. The confidence level (e.g., 95%) indicates the probability that the interval contains the true population parameter.\n",
    "\n",
    "Interval estimation provides a more informative picture of the possible range of values for the population parameter, which is particularly useful when making decisions based on the estimate."
   ]
  },
  {
   "cell_type": "markdown",
   "id": "418a521a-6280-4d2e-af89-a89aa09aaec4",
   "metadata": {},
   "source": [
    "### Write a Python function to estimate the population mean using a sample mean and standard deviation."
   ]
  },
  {
   "cell_type": "code",
   "execution_count": 2,
   "id": "27a22955-acd8-41e5-a851-0a69cf46297c",
   "metadata": {},
   "outputs": [
    {
     "name": "stdout",
     "output_type": "stream",
     "text": [
      "Estimated Population Mean: 150\n",
      "Confidence Interval: (146.0800720309199, 153.9199279690801)\n"
     ]
    }
   ],
   "source": [
    "import scipy.stats as stats\n",
    "\n",
    "def estimate_population_mean(sample_mean, sample_std_dev, sample_size, confidence_level=0.95):\n",
    "    # standard error of the mean\n",
    "    standard_error = sample_std_dev / (sample_size ** 0.5)\n",
    "    \n",
    "    # margin of error based on the desired confidence level\n",
    "    margin_of_error = stats.norm.ppf(1 - (1 - confidence_level) / 2) * standard_error\n",
    "    \n",
    "    # lower and upper bounds of the confidence interval\n",
    "    lower_bound = sample_mean - margin_of_error\n",
    "    upper_bound = sample_mean + margin_of_error\n",
    "    \n",
    "    return {\n",
    "        'population_mean_estimate': sample_mean,\n",
    "        'confidence_interval': (lower_bound, upper_bound)\n",
    "    }\n",
    "\n",
    "\n",
    "sample_mean = 150\n",
    "sample_std_dev = 20\n",
    "sample_size = 100\n",
    "confidence_level = 0.95\n",
    "\n",
    "result = estimate_population_mean(sample_mean, sample_std_dev, sample_size, confidence_level)\n",
    "print(\"Estimated Population Mean:\", result['population_mean_estimate'])\n",
    "print(\"Confidence Interval:\", result['confidence_interval'])"
   ]
  },
  {
   "cell_type": "markdown",
   "id": "58a2c8f1-0c1a-4915-9b13-9a887dee990d",
   "metadata": {},
   "source": [
    "###  What is Hypothesis testing? Why is it used? State the importance of Hypothesis testing.\n",
    "\n",
    "Hypothesis testing is a fundamental concept in statistics used to make decisions or draw conclusions about a population based on sample data. It involves a structured process of formulating and evaluating hypothesis (statements about population parameters) in order to determine whether the observed data provides enough evidence to support or reject a specific claim.\n",
    "\n",
    "Key components of hypothesis testing:\n",
    "\n",
    "1. **Formulating Hypotheses**:\n",
    "   - **Null Hypothesis (H0)**: This is the default hypothesis that states there is no significant effect, relationship, or difference in the population. It represents the status quo or the absence of an effect.\n",
    "   - **Alternative Hypothesis (Ha)**: This is the hypothesis that contradicts the null hypothesis and suggests that there is a significant effect, relationship, or difference in the population. It's what you are trying to find evidence for.\n",
    "\n",
    "2. **Collecting and Analyzing Data**:\n",
    "   - You collect a sample of data from the population and use statistical techniques to analyze it.\n",
    "\n",
    "3. **Calculating Test Statistic**:\n",
    "   - Based on the data, you calculate a test statistic, which measures the difference between the sample data and what is expected under the null hypothesis.\n",
    "\n",
    "4. **Comparing to Critical Value or P-value**:\n",
    "   - The test statistic is compared to either a critical value from a distribution (e.g., normal or t-distribution) or a p-value. The critical value is determined by the desired significance level (alpha), while the p-value measures the probability of observing data as extreme as what was observed, assuming the null hypothesis is true.\n",
    "\n",
    "5. **Making a Decision**:\n",
    "   - If the test statistic falls in the critical region (beyond the critical value) or the p-value is less than alpha, you reject the null hypothesis in favor of the alternative hypothesis.\n",
    "   - If the test statistic does not fall in the critical region or the p-value is greater than or equal to alpha, you fail to reject the null hypothesis.\n",
    "\n",
    "**Importance of Hypothesis Testing**:\n",
    "\n",
    "1. **Data-Driven Decision Making**: Hypothesis testing provides a systematic approach to decision making based on empirical evidence. It helps individuals and organizations make informed choices backed by statistical analysis.\n",
    "\n",
    "2. **Scientific Research**: In scientific research, hypothesis testing is used to validate or refute theories and hypothesis, advancing our understanding of various phenomena.\n",
    "\n",
    "3. **Quality Control**: Industries use hypothesis testing to ensure the quality of products and processes by comparing observed data to specified standards.\n",
    "\n",
    "4. **Medical and Pharmaceutical Fields**: Hypothesis testing is crucial for assessing the effectiveness of treatments, drugs, or medical interventions.\n",
    "\n",
    "5. **Business and Economics**: Businesses use hypothesis testing to evaluate marketing strategies, customer preferences, and financial decisions.\n",
    "\n",
    "6. **Policy and Decision Making**: Governments and policymakers use hypothesis testing to evaluate the impact of policies, regulations, and social interventions.\n",
    "\n",
    "7. **Legal and Criminal Justice System**: Hypothesis testing plays a role in criminal investigations, where evidence is evaluated to determine guilt or innocence.\n",
    "\n",
    "8. **Academic Research**: Researchers use hypothesis testing to contribute to the body of knowledge in various disciplines."
   ]
  },
  {
   "cell_type": "markdown",
   "id": "8f22f18d-6615-444c-a687-ad29e8db93e4",
   "metadata": {},
   "source": [
    "### Create a hypothesis that states whether the average weight of male college students is greater than the average weight of female college students.\n",
    "\n",
    "**Null Hypothesis (H0)**:\n",
    "The average weight of male college students is equal to or less than the average weight of female college students.\n",
    "\n",
    "**Alternative Hypothesis (Ha)**:\n",
    "The average weight of male college students is greater than the average weight of female college students.\n",
    "\n",
    "In symbols:\n",
    "- H0: μ_male ≤ μ_female\n",
    "- Ha: μ_male > μ_female\n",
    "\n",
    "In words:\n",
    "- Null Hypothesis: The average weight of male college students is less than or equal to the average weight of female college students.\n",
    "- Alternative Hypothesis: The average weight of male college students is greater than the average weight of female college students.\n",
    "\n",
    "This hypothesis sets up a scenario where you are testing whether there is evidence to suggest that male college students, on average, weigh more than female college students. The null hypothesis assumes that there is no such difference, while the alternative hypothesis suggests that there is a difference in favor of male students having a higher average weight."
   ]
  },
  {
   "cell_type": "markdown",
   "id": "12bd3057-18a6-4f65-9e32-3b8b1a79fb3a",
   "metadata": {},
   "source": [
    "###  Write a Python script to conduct a hypothesis test on the difference between two population means, given a sample from each population."
   ]
  },
  {
   "cell_type": "code",
   "execution_count": 4,
   "id": "e87d1502-0cf2-49f3-be87-fe23d3e5991b",
   "metadata": {},
   "outputs": [
    {
     "name": "stdout",
     "output_type": "stream",
     "text": [
      "Reject the null hypothesis\n",
      "t-statistic: 6.8567430587075675\n",
      "p-value: 2.046513642394595e-06\n"
     ]
    }
   ],
   "source": [
    "import numpy as np\n",
    "from scipy import stats\n",
    "\n",
    "sample1 = np.array([65, 68, 70, 72, 67, 71, 69, 73, 68, 66])\n",
    "sample2 = np.array([60, 62, 63, 65, 61, 64, 59, 62, 63, 60])\n",
    "\n",
    "# significance level (alpha)\n",
    "alpha = 0.05\n",
    "\n",
    "# t-test\n",
    "t_statistic, p_value = stats.ttest_ind(sample1, sample2)\n",
    "\n",
    "# reject the null hypothesis\n",
    "if p_value < alpha:\n",
    "    print(\"Reject the null hypothesis\")\n",
    "else:\n",
    "    print(\"Fail to reject the null hypothesis\")\n",
    "\n",
    "print(\"t-statistic:\", t_statistic)\n",
    "print(\"p-value:\", p_value)"
   ]
  },
  {
   "cell_type": "markdown",
   "id": "6ed19e96-f6fb-4b4f-94d5-b5b3295f6b96",
   "metadata": {},
   "source": [
    "### What is a null and alternative hypothesis? Give some examples.\n",
    "\n",
    "In hypothesis testing, the null hypothesis (H0) and the alternative hypothesis (Ha) are two competing statements used to make informed decisions based on observed data. These hypothesis help us determine whether there's enough evidence to support a claim or effect.\n",
    "\n",
    "**Null Hypothesis (H0)**:\n",
    "The null hypothesis is the default assumption that there is no significant effect, relationship, or difference in the population. It represents the status quo or the absence of an effect. In hypothesis testing, we often aim to test whether the null hypothesis can be rejected.\n",
    "\n",
    "**Alternative Hypothesis (Ha)**:\n",
    "The alternative hypothesis is the opposite of the null hypothesis. It suggests that there is a significant effect, relationship, or difference in the population. It's what you are trying to find evidence for.\n",
    "\n",
    "Here are some examples of null and alternative hypothesis:\n",
    "\n",
    "1. **Example: Coin Toss**:\n",
    "   - Null Hypothesis (H0): The coin is fair (50% chance of heads and 50% chance of tails).\n",
    "   - Alternative Hypothesis (Ha): The coin is not fair (it's biased towards either heads or tails).\n",
    "\n",
    "2. **Example: Drug Effectiveness**:\n",
    "   - Null Hypothesis (H0): The new drug is not more effective than the existing drug.\n",
    "   - Alternative Hypothesis (Ha): The new drug is more effective than the existing drug.\n",
    "\n",
    "3. **Example: Gender and Income**:\n",
    "   - Null Hypothesis (H0): Gender has no effect on income.\n",
    "   - Alternative Hypothesis (Ha): Gender influences income.\n",
    "\n",
    "4. **Example: Advertising Impact**:\n",
    "   - Null Hypothesis (H0): The advertising campaign did not lead to increased sales.\n",
    "   - Alternative Hypothesis (Ha): The advertising campaign led to increased sales.\n",
    "\n",
    "5. **Example: Educational Methods**:\n",
    "   - Null Hypothesis (H0): The new teaching method is not better than the traditional method.\n",
    "   - Alternative Hypothesis (Ha): The new teaching method is better than the traditional method.\n",
    "\n",
    "6. **Example: Climate Change**:\n",
    "   - Null Hypothesis (H0): There is no significant change in global temperature.\n",
    "   - Alternative Hypothesis (Ha): There is a significant change in global temperature."
   ]
  },
  {
   "cell_type": "markdown",
   "id": "b3c8c3ac-62a0-4f28-8c31-a79417418bb7",
   "metadata": {},
   "source": [
    "###  Write down the steps involved in hypothesis testing.\n",
    "\n",
    "The general steps involved in the hypothesis testing process:\n",
    "\n",
    "1. **State the Hypothesis**:\n",
    "   - Formulate the null hypothesis (H0) that assumes no effect or no difference.\n",
    "   - Formulate the alternative hypothesis (Ha) that suggests an effect, relationship, or difference.\n",
    "\n",
    "2. **Choose the Significance Level (Alpha)**:\n",
    "   - Determine the significance level (alpha), which represents the probability of making a Type I error (rejecting a true null hypothesis).\n",
    "\n",
    "3. **Collect and Prepare Data**:\n",
    "   - Collect relevant data through experiments, observations, surveys, etc.\n",
    "   - Clean and organize the data for analysis.\n",
    "\n",
    "4. **Choose a Statistical Test**:\n",
    "   - Select an appropriate statistical test based on the type of data, sample size, and hypotheses being tested (e.g., t-test, chi-square test, ANOVA, etc.).\n",
    "\n",
    "5. **Calculate the Test Statistic**:\n",
    "   - Calculate the test statistic using the collected data and the chosen statistical test.\n",
    "\n",
    "6. **Determine the Critical Region or P-value**:\n",
    "   - For a given significance level (alpha), find the critical value(s) from the appropriate distribution (e.g., z-distribution, t-distribution).\n",
    "   - Alternatively, calculate the p-value, which represents the probability of observing data as extreme as what was observed, assuming the null hypothesis is true.\n",
    "\n",
    "7. **Make a Decision**:\n",
    "   - Compare the calculated test statistic with the critical value(s) or compare the p-value with alpha.\n",
    "   - If the test statistic falls in the critical region or the p-value is less than alpha, reject the null hypothesis.\n",
    "   - If the test statistic does not fall in the critical region or the p-value is greater than or equal to alpha, fail to reject the null hypothesis.\n",
    "\n",
    "8. **Draw a Conclusion**:\n",
    "   - Based on the decision made in the previous step, draw a conclusion about the hypotheses.\n",
    "   - If the null hypothesis is rejected, provide evidence in support of the alternative hypothesis. If not, state that there is not enough evidence to support the alternative hypothesis.\n",
    "\n",
    "9. **Interpret the Results**:\n",
    "   - Explain the implications of the conclusion in the context of the problem or research question.\n",
    "   - Discuss the practical significance of the findings.\n",
    "\n",
    "10. **Consider Limitations**:\n",
    "   - Reflect on potential limitations of the study, including sample size, data quality, assumptions of the statistical test, etc.\n",
    "\n",
    "11. **Report the Results**:\n",
    "   - Present the results, conclusions, and relevant statistics in a clear and understandable manner, often using tables, graphs, and written explanations.\n",
    "\n",
    "It's important to note that hypothesis testing is not a definitive proof of a hypothesis; it provides evidence to support or reject a claim based on the available data and the chosen significance level. The results of hypothesis testing inform decision-making and guide further investigation or action."
   ]
  },
  {
   "cell_type": "markdown",
   "id": "0286f906-d566-4f1b-9451-02dd296d7070",
   "metadata": {},
   "source": [
    "###  Define p-value and explain its significance in hypothesis testing.\n",
    "\n",
    "The p-value, or probability value, is a measure used in hypothesis testing to assess the strength of evidence against the null hypothesis. It quantifies the likelihood of obtaining a test statistic as extreme as, or more extreme than, the one observed in the sample, assuming that the null hypothesis is true.\n",
    "\n",
    "In simpler terms, the p-value tells you how rare or unusual the observed data is, assuming that the null hypothesis is correct. A lower p-value indicates stronger evidence against the null hypothesis, suggesting that the observed data is unlikely to have occurred by chance alone.\n",
    "\n",
    "**Significance of the p-value in Hypothesis Testing**:\n",
    "\n",
    "1. **Decision Making**: The p-value helps you make decisions about whether to reject the null hypothesis or not. If the p-value is smaller than the chosen significance level (alpha), typically 0.05, you reject the null hypothesis in favor of the alternative hypothesis. If the p-value is larger than alpha, you fail to reject the null hypothesis.\n",
    "\n",
    "2. **Strength of Evidence**: A small p-value suggests that the observed data is unlikely to have occurred under the assumptions of the null hypothesis. This provides stronger evidence against the null hypothesis and supports the case for the alternative hypothesis.\n",
    "\n",
    "3. **Quantification of Uncertainty**: The p-value provides a quantitative measure of the uncertainty associated with the conclusion. A very small p-value indicates that the result is unlikely to be due to random chance, but it doesn't guarantee that the alternative hypothesis is true.\n",
    "\n",
    "4. **Interpretation of Findings**: When reporting the results of hypothesis tests, the p-value is often included to allow readers to assess the reliability of the conclusions drawn from the data.\n",
    "\n",
    "5. **Comparing Studies**: Researchers can compare p-values across different studies to gauge the consistency of findings. Smaller p-values in multiple studies suggest a more robust and consistent effect.\n",
    "\n",
    "6. **Adjusting for Multiple Testing**: In cases where multiple hypotheses are tested simultaneously, adjusting p-values can help control the overall false positive rate. Methods like the Bonferroni correction are used to counteract the increased likelihood of observing a significant result by chance alone when conducting multiple tests.\n",
    "\n",
    "It's important to note that while the p-value is a valuable tool in hypothesis testing, it has been subject to debates about misinterpretation and its role in scientific inference. It should always be considered in conjunction with other relevant factors, such as effect size, study design, sample size, and domain knowledge, to arrive at sound conclusions. "
   ]
  },
  {
   "cell_type": "markdown",
   "id": "df1af80c-ac94-48a3-8b07-63fbe9fc535d",
   "metadata": {},
   "source": [
    "### Generate a Student's t-distribution plot using Python's matplotlib library, with the degrees of freedom parameter set to 10."
   ]
  },
  {
   "cell_type": "code",
   "execution_count": 6,
   "id": "f92473e7-f42f-45f2-8a03-3ec03d7c706f",
   "metadata": {},
   "outputs": [
    {
     "data": {
      "image/png": "[encoded data removed]",
      "text/plain": [
       "<Figure size 800x600 with 1 Axes>"
      ]
     },
     "metadata": {},
     "output_type": "display_data"
    }
   ],
   "source": [
    "import numpy as np\n",
    "import matplotlib.pyplot as plt\n",
    "from scipy.stats import t\n",
    "\n",
    "df = 10\n",
    "\n",
    "# generate x values\n",
    "x = np.linspace(-5, 5, 400)\n",
    "\n",
    "# calculate the corresponding y values using the t-distribution probability density function\n",
    "y = t.pdf(x, df)\n",
    "\n",
    "plt.figure(figsize=(8, 6))\n",
    "plt.plot(x, y, label=f't-distribution (df = {df})')\n",
    "plt.title(\"Student's t-Distribution\")\n",
    "plt.xlabel('x')\n",
    "plt.ylabel('Probability Density')\n",
    "plt.legend()\n",
    "plt.grid(True)\n",
    "plt.show()"
   ]
  },
  {
   "cell_type": "markdown",
   "id": "8ae4a042-d397-4cef-9ba8-4cf29ce9b82c",
   "metadata": {},
   "source": [
    "### Write a Python program to calculate the two-sample t-test for independent samples, given two random samples of equal size and a null hypothesis that the population means are equal."
   ]
  },
  {
   "cell_type": "code",
   "execution_count": 7,
   "id": "0676c809-e890-4c00-8e8c-767889cffb28",
   "metadata": {},
   "outputs": [
    {
     "name": "stdout",
     "output_type": "stream",
     "text": [
      "Sample 1: [54.96714153 48.61735699 56.47688538 65.23029856 47.65846625 47.65863043\n",
      " 65.79212816 57.67434729 45.30525614 55.42560044 45.36582307 45.34270246\n",
      " 52.41962272 30.86719755 32.75082167 44.37712471 39.8716888  53.14247333\n",
      " 40.91975924 35.87696299]\n",
      "Sample 2: [66.65648769 49.742237   52.67528205 37.75251814 46.55617275 53.1092259\n",
      " 40.49006423 55.75698018 45.9936131  49.0830625  45.98293388 70.52278185\n",
      " 51.86502775 41.42289071 60.22544912 39.7915635  54.08863595 32.40329876\n",
      " 38.71813951 53.96861236]\n",
      "Null Hypothesis: Population means are equal\n",
      "Calculated t-statistic: -0.3454849687250809\n",
      "p-value: 0.7316350980688255\n",
      "Decision: Fail to reject the null hypothesis\n"
     ]
    }
   ],
   "source": [
    "import numpy as np\n",
    "from scipy import stats\n",
    "\n",
    "np.random.seed(42) \n",
    "sample_size = 20\n",
    "sample1 = np.random.normal(loc=50, scale=10, size=sample_size)\n",
    "sample2 = np.random.normal(loc=52, scale=10, size=sample_size)\n",
    "\n",
    "null_hypothesis = \"Population means are equal\"\n",
    "\n",
    "# calculate the two-sample t-test\n",
    "t_statistic, p_value = stats.ttest_ind(sample1, sample2)\n",
    "\n",
    "# significance level (alpha)\n",
    "alpha = 0.05\n",
    "\n",
    "# compare p-value with alpha\n",
    "if p_value < alpha:\n",
    "    decision = \"Reject the null hypothesis\"\n",
    "else:\n",
    "    decision = \"Fail to reject the null hypothesis\"\n",
    "\n",
    "print(\"Sample 1:\", sample1)\n",
    "print(\"Sample 2:\", sample2)\n",
    "print(\"Null Hypothesis:\", null_hypothesis)\n",
    "print(\"Calculated t-statistic:\", t_statistic)\n",
    "print(\"p-value:\", p_value)\n",
    "print(\"Decision:\", decision)"
   ]
  },
  {
   "cell_type": "markdown",
   "id": "1aa89a96-ff58-4288-979f-94ac6b3145a1",
   "metadata": {},
   "source": [
    "### What is Student’s t distribution? When to use the t-Distribution\n",
    "\n",
    "Student's t-distribution, often simply referred to as the t-distribution, is a probability distribution that is used in statistics for making inferences about the population mean when the sample size is small and the population standard deviation is unknown. It is closely related to the normal distribution but has heavier tails, which makes it more suitable for situations where the sample size is limited and population parameters are uncertain.\n",
    "\n",
    "The t-distribution is characterized by a parameter called degrees of freedom (df), which determines its shape. As the degrees of freedom increase, the t-distribution becomes closer to the standard normal distribution (z-distribution).\n",
    "\n",
    "**When to use the t-Distribution**:\n",
    "\n",
    "The t-distribution is used in various situations when making inferences about a population mean. It is specifically applicable when:\n",
    "\n",
    "1. **Small Sample Size**: When the sample size is small (typically less than 30) and the population standard deviation is unknown, the t-distribution is used to estimate population parameters.\n",
    "\n",
    "2. **Population Standard Deviation Unknown**: When the population standard deviation is unknown and cannot be assumed to be the same as the sample standard deviation, the t-distribution is used instead of the z-distribution.\n",
    "\n",
    "3. **Hypothesis Testing and Confidence Intervals**: The t-distribution is commonly used in hypothesis testing and constructing confidence intervals for the population mean.\n",
    "\n",
    "4. **Comparison of Means**: When comparing means from two independent samples, especially with small sample sizes, the t-distribution is used in two-sample t-tests.\n",
    "\n",
    "5. **Regression Analysis**: In linear regression analysis, the t-distribution is used to test the significance of regression coefficients and to construct confidence intervals for them.\n",
    "\n",
    "6. **Quality Control**: In situations involving quality control and process control, the t-distribution is used for making inferences about population parameters."
   ]
  },
  {
   "cell_type": "markdown",
   "id": "63e5f18d-35fe-4e0f-8e82-408b00e2a10b",
   "metadata": {},
   "source": [
    "### What is t-statistic? State the formula for t-statistic.\n",
    "\n",
    "The t-statistic (also known as the t-score) is a measure used in hypothesis testing and confidence interval calculations to assess the difference between a sample statistic (such as the sample mean) and a population parameter (such as the population mean) when the population standard deviation is unknown and has to be estimated from the sample data.\n",
    "\n",
    "The formula for calculating the t-statistic is as follows:\n",
    "\n",
    "t = (Sample Mean - Population Mean)/(Sample Standard Deviation/sqrt(Sample Size))\n",
    "\n",
    "In this formula:\n",
    "- Sample Mean represents the average of the sample data.\n",
    "- Population Mean is the hypothesized or assumed population mean under the null hypothesis.\n",
    "- Sample Standard Deviation is the estimated standard deviation of the population based on the sample data.\n",
    "- Sample Size is the number of observations in the sample.\n",
    "\n",
    "The t-statistic measures how many standard errors the sample mean is away from the hypothesized population mean. If the t-statistic is significantly larger (positive) or smaller (negative) than expected under the null hypothesis, it suggests that the observed data provides evidence against the null hypothesis.\n",
    "\n",
    "The t-statistic follows a t-distribution with (n - 1) degrees of freedom, where (n) is the sample size. The degrees of freedom account for the fact that one degree of freedom is \"used up\" when estimating the sample mean.\n",
    "\n",
    "In hypothesis testing, the calculated t-statistic is compared to critical values from the t-distribution (or its equivalent, the z-distribution if the sample size is large) to make decisions about rejecting or failing to reject the null hypothesis. If the calculated t-statistic falls in the critical region (tail of the distribution), it suggests that the observed data is unlikely under the null hypothesis, and the null hypothesis may be rejected in favor of the alternative hypothesis."
   ]
  },
  {
   "attachments": {
    "98d86e7f-0f97-4065-a4f0-23a6c539178c.png": {
     "image/png": "[encoded data removed]"
    }
   },
   "cell_type": "markdown",
   "id": "f29abaac-e77d-4a1e-91e5-6a3e21afaeb1",
   "metadata": {},
   "source": [
    "### A coffee shop owner wants to estimate the average daily revenue for their shop. They take a random sample of 50 days and find the sample mean revenue to be Dollor-500 with a standard deviation of dollor-50. Estimate the population mean revenue with a 95% confidence interval.\n",
    "\n",
    "![Formulae.png](attachment:98d86e7f-0f97-4065-a4f0-23a6c539178c.png)"
   ]
  },
  {
   "cell_type": "code",
   "execution_count": 29,
   "id": "9d9dfec1-6b34-47fd-8ce1-3f6e3381eae9",
   "metadata": {},
   "outputs": [
    {
     "name": "stdout",
     "output_type": "stream",
     "text": [
      "Confidence Interval: $486.14 to $513.86\n"
     ]
    }
   ],
   "source": [
    "import math\n",
    "from scipy.stats import norm\n",
    "\n",
    "sample_mean = 500\n",
    "sample_std_dev = 50\n",
    "sample_size = 50\n",
    "confidence_level = 0.95\n",
    "\n",
    "alpha = 1 - confidence_level\n",
    "critical_value = norm.ppf(1-alpha / 2)\n",
    "\n",
    "margin_of_error = critical_value * (sample_std_dev / math.sqrt(sample_size))\n",
    "\n",
    "lower_bound = sample_mean - margin_of_error\n",
    "upper_bound = sample_mean + margin_of_error\n",
    "\n",
    "print(\"Confidence Interval: ${:.2f} to ${:.2f}\".format(lower_bound, upper_bound))"
   ]
  },
  {
   "cell_type": "markdown",
   "id": "ddb3f99f-6cd7-4006-87e8-451eec267726",
   "metadata": {},
   "source": [
    "###  A researcher hypothesizes that a new drug will decrease blood pressure by 10 mmHg. They conduct a clinical trial with 100 patients and find that the sample mean decrease in blood pressure is 8 mmHg with a standard deviation of 3 mmHg. Test the hypothesis with a significance level of 0.05."
   ]
  },
  {
   "cell_type": "code",
   "execution_count": 16,
   "id": "608e98ae-feea-4fdc-8619-b035fe633a5d",
   "metadata": {},
   "outputs": [
    {
     "name": "stdout",
     "output_type": "stream",
     "text": [
      "Calculated t-statistic: -6.666666666666667\n",
      "p-value: 1.5012289009970215e-09\n",
      "Decision: Reject the null hypothesis\n"
     ]
    }
   ],
   "source": [
    "import numpy as np\n",
    "from scipy import stats\n",
    "\n",
    "sample_mean = 8\n",
    "population_mean_null = 10\n",
    "sample_std_dev = 3\n",
    "sample_size = 100\n",
    "alpha = 0.05\n",
    "\n",
    "# t-statistic\n",
    "t_statistic = (sample_mean - population_mean_null) / (sample_std_dev / np.sqrt(sample_size))\n",
    "\n",
    "# p-value\n",
    "p_value = stats.t.sf(np.abs(t_statistic), df=sample_size-1) * 2\n",
    "\n",
    "# decision based on the p-value and significance level\n",
    "if p_value < alpha:\n",
    "    decision = \"Reject the null hypothesis\"\n",
    "else:\n",
    "    decision = \"Fail to reject the null hypothesis\"\n",
    "\n",
    "print(\"Calculated t-statistic:\", t_statistic)\n",
    "print(\"p-value:\", p_value)\n",
    "print(\"Decision:\", decision)"
   ]
  },
  {
   "cell_type": "markdown",
   "id": "7784a057-6959-4fa2-9418-070eb1a59d99",
   "metadata": {},
   "source": [
    "###  An electronics company produces a certain type of product with a mean weight of 5 pounds and a standard deviation of 0.5 pounds. A random sample of 25 products is taken, and the sample mean weight is found to be 4.8 pounds. Test the hypothesis that the true mean weight of the products is less than 5 pounds with a significance level of 0.01."
   ]
  },
  {
   "cell_type": "code",
   "execution_count": 17,
   "id": "10e051c1-2cf7-430e-839b-506f1e06efdc",
   "metadata": {},
   "outputs": [
    {
     "name": "stdout",
     "output_type": "stream",
     "text": [
      "Calculated t-statistic: -2.0000000000000018\n",
      "p-value: 0.02846992496829572\n",
      "Decision: Fail to reject the null hypothesis\n"
     ]
    }
   ],
   "source": [
    "import numpy as np\n",
    "from scipy import stats\n",
    "\n",
    "population_mean = 5\n",
    "sample_mean = 4.8\n",
    "sample_std_dev = 0.5\n",
    "sample_size = 25\n",
    "alpha = 0.01\n",
    "\n",
    "t_statistic = (sample_mean - population_mean) / (sample_std_dev / np.sqrt(sample_size))\n",
    "\n",
    "p_value = stats.t.cdf(t_statistic, df=sample_size-1)\n",
    "\n",
    "if p_value < alpha:\n",
    "    decision = \"Reject the null hypothesis\"\n",
    "else:\n",
    "    decision = \"Fail to reject the null hypothesis\"\n",
    "\n",
    "\n",
    "print(\"Calculated t-statistic:\", t_statistic)\n",
    "print(\"p-value:\", p_value)\n",
    "print(\"Decision:\", decision)"
   ]
  },
  {
   "cell_type": "markdown",
   "id": "1621804f-d6a9-4fd0-a4cc-439bb6f48422",
   "metadata": {},
   "source": [
    "###  Two groups of students are given different study materials to prepare for a test. The first group (n1 = 30) has a mean score of 80 with a standard deviation of 10, and the second group (n2 = 40) has a mean score of 75 with a standard deviation of 8. Test the hypothesis that the population means for the two groups are equal with a significance level of 0.01."
   ]
  },
  {
   "cell_type": "code",
   "execution_count": 18,
   "id": "3d7d23e8-e3cf-48f7-8141-4b6f6ab791ad",
   "metadata": {},
   "outputs": [
    {
     "name": "stdout",
     "output_type": "stream",
     "text": [
      "Calculated t-statistic: 2.3239677296992913\n",
      "Degrees of freedom: 68\n",
      "p-value: 0.023123013413725912\n",
      "Decision: Fail to reject the null hypothesis\n"
     ]
    }
   ],
   "source": [
    "import numpy as np\n",
    "from scipy import stats\n",
    "\n",
    "sample_mean1 = 80\n",
    "sample_std_dev1 = 10\n",
    "sample_size1 = 30\n",
    "\n",
    "sample_mean2 = 75\n",
    "sample_std_dev2 = 8\n",
    "sample_size2 = 40\n",
    "\n",
    "alpha = 0.01\n",
    "\n",
    "# Calculate the pooled standard deviation\n",
    "pooled_std_dev = np.sqrt(((sample_size1 - 1) * sample_std_dev1**2 + (sample_size2 - 1) * sample_std_dev2**2) / (sample_size1 + sample_size2 - 2))\n",
    "\n",
    "t_statistic = (sample_mean1 - sample_mean2) / (pooled_std_dev * np.sqrt(1/sample_size1 + 1/sample_size2))\n",
    "\n",
    "degrees_of_freedom = sample_size1 + sample_size2 - 2\n",
    "\n",
    "p_value = 2 * (1 - stats.t.cdf(np.abs(t_statistic), df=degrees_of_freedom))\n",
    "\n",
    "if p_value < alpha:\n",
    "    decision = \"Reject the null hypothesis\"\n",
    "else:\n",
    "    decision = \"Fail to reject the null hypothesis\"\n",
    "\n",
    "# Print results\n",
    "print(\"Calculated t-statistic:\", t_statistic)\n",
    "print(\"Degrees of freedom:\", degrees_of_freedom)\n",
    "print(\"p-value:\", p_value)\n",
    "print(\"Decision:\", decision)"
   ]
  },
  {
   "cell_type": "markdown",
   "id": "316e56a9-b088-424f-a963-6196222ac037",
   "metadata": {},
   "source": [
    "### A marketing company wants to estimate the average number of ads watched by viewers during a TV program. They take a random sample of 50 viewers and find that the sample mean is 4 with a standard deviation of 1.5. Estimate the population mean with a 99% confidence interval."
   ]
  },
  {
   "cell_type": "code",
   "execution_count": 27,
   "id": "fde1cb93-7f2b-4e78-806c-008ab103bf52",
   "metadata": {},
   "outputs": [
    {
     "name": "stdout",
     "output_type": "stream",
     "text": [
      "Confidence Interval: 4.546415910315535 to 3.4535840896844654\n",
      "-2.5758293035489004\n"
     ]
    }
   ],
   "source": [
    "import math\n",
    "\n",
    "sample_mean = 4\n",
    "sample_std_dev = 1.5\n",
    "sample_size = 50\n",
    "confidence_level = 0.99\n",
    "\n",
    "alpha = 1 - confidence_level\n",
    "critical_value = norm.ppf(alpha / 2)\n",
    "margin_of_error = critical_value * (sample_std_dev / math.sqrt(sample_size))\n",
    "\n",
    "lower_bound = sample_mean - margin_of_error\n",
    "upper_bound = sample_mean + margin_of_error\n",
    "\n",
    "print(\"Confidence Interval:\", lower_bound, \"to\", upper_bound)\n",
    "print(critical_value)"
   ]
  },
  {
   "cell_type": "code",
   "execution_count": 28,
   "id": "4492cdcd-07e4-45c8-a003-e10cc6592d3b",
   "metadata": {},
   "outputs": [
    {
     "name": "stdout",
     "output_type": "stream",
     "text": [
      "Confidence Interval: 3.4535840896844654 to 4.546415910315535\n",
      "Critical Value: 2.5758293035489004\n"
     ]
    }
   ],
   "source": [
    "import math\n",
    "from scipy.stats import norm\n",
    "\n",
    "sample_mean = 4\n",
    "sample_std_dev = 1.5\n",
    "sample_size = 50\n",
    "confidence_level = 0.99\n",
    "\n",
    "alpha = 1 - confidence_level\n",
    "critical_value = norm.ppf(1 - alpha / 2)\n",
    "margin_of_error = critical_value * (sample_std_dev / math.sqrt(sample_size))\n",
    "\n",
    "lower_bound = sample_mean - margin_of_error\n",
    "upper_bound = sample_mean + margin_of_error\n",
    "\n",
    "print(\"Confidence Interval:\", lower_bound, \"to\", upper_bound)\n",
    "print(\"Critical Value:\", critical_value)"
   ]
  },
  {
   "cell_type": "code",
   "execution_count": null,
   "id": "c46111a2-c16b-4c97-a976-531ab0032b7d",
   "metadata": {},
   "outputs": [],
   "source": []
  }
 ],
 "metadata": {
  "kernelspec": {
   "display_name": "Python 3 (ipykernel)",
   "language": "python",
   "name": "python3"
  },
  "language_info": {
   "codemirror_mode": {
    "name": "ipython",
    "version": 3
   },
   "file_extension": ".py",
   "mimetype": "text/x-python",
   "name": "python",
   "nbconvert_exporter": "python",
   "pygments_lexer": "ipython3",
   "version": "3.10.8"
  }
 },
 "nbformat": 4,
 "nbformat_minor": 5
}
