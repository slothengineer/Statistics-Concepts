{
 "cells": [
  {
   "cell_type": "markdown",
   "id": "8ad220b6-8bcb-48f4-acc1-e62ce11745f0",
   "metadata": {},
   "source": [
    "## chi-square test"
   ]
  },
  {
   "cell_type": "code",
   "execution_count": 1,
   "id": "eeabb041-dd16-41f8-b653-272c14895682",
   "metadata": {},
   "outputs": [],
   "source": [
    "import scipy.stats as stat"
   ]
  },
  {
   "cell_type": "code",
   "execution_count": 2,
   "id": "0a0d8a0a-686b-4963-9968-eab2b73296a0",
   "metadata": {},
   "outputs": [],
   "source": [
    "import numpy as np\n"
   ]
  },
  {
   "cell_type": "code",
   "execution_count": 14,
   "id": "fd4a10bc-4243-430a-846c-4944b4cb97d0",
   "metadata": {},
   "outputs": [],
   "source": [
    "##no of hours a student study daily on weekly basis\n",
    "##daywise{mon.........sun}\n",
    "expected=[8,6,7,8,9,9,6]\n",
    "observed=[6,6,8,7,9,6,11]"
   ]
  },
  {
   "cell_type": "code",
   "execution_count": 15,
   "id": "e70bfec1-f1bd-48ec-9856-fee7dbf0d52c",
   "metadata": {},
   "outputs": [
    {
     "data": {
      "text/plain": [
       "53"
      ]
     },
     "execution_count": 15,
     "metadata": {},
     "output_type": "execute_result"
    }
   ],
   "source": [
    "sum(expected)"
   ]
  },
  {
   "cell_type": "code",
   "execution_count": 16,
   "id": "64d3ecab-f506-40b1-ab43-97fe257dae34",
   "metadata": {},
   "outputs": [
    {
     "data": {
      "text/plain": [
       "53"
      ]
     },
     "execution_count": 16,
     "metadata": {},
     "output_type": "execute_result"
    }
   ],
   "source": [
    "sum(observed)"
   ]
  },
  {
   "cell_type": "code",
   "execution_count": 17,
   "id": "42d2fd24-0c56-4553-9aef-fde4bb386e0f",
   "metadata": {},
   "outputs": [],
   "source": [
    "##chi square goodness of fit \n",
    "chisquare_test_statistics,p_value=stat.chisquare(expected,observed)"
   ]
  },
  {
   "cell_type": "code",
   "execution_count": 18,
   "id": "db087144-315c-448f-ac63-cc9a708dd7e7",
   "metadata": {},
   "outputs": [
    {
     "name": "stdout",
     "output_type": "stream",
     "text": [
      "4.707251082251082\n",
      "0.581870307959858\n"
     ]
    },
    {
     "data": {
      "text/plain": [
       "(None, None)"
      ]
     },
     "execution_count": 18,
     "metadata": {},
     "output_type": "execute_result"
    }
   ],
   "source": [
    "print(chisquare_test_statistics),print(p_value)"
   ]
  },
  {
   "cell_type": "code",
   "execution_count": 19,
   "id": "c7f46034-39bf-498e-9880-8fc5f77891bb",
   "metadata": {},
   "outputs": [],
   "source": [
    "##finding critical value\n",
    "significance=0.05\n",
    "dof=len(observed)-1\n",
    "critical_value=stat.chi2.ppf(1-significance,dof)\n"
   ]
  },
  {
   "cell_type": "code",
   "execution_count": 20,
   "id": "d865ffd0-0355-4462-ace0-60ac2bdd8c0e",
   "metadata": {},
   "outputs": [
    {
     "data": {
      "text/plain": [
       "12.591587243743977"
      ]
     },
     "execution_count": 20,
     "metadata": {},
     "output_type": "execute_result"
    }
   ],
   "source": [
    "critical_value"
   ]
  },
  {
   "cell_type": "code",
   "execution_count": 21,
   "id": "4ba27165-d778-4241-8c73-532c621f4d8f",
   "metadata": {},
   "outputs": [
    {
     "name": "stdout",
     "output_type": "stream",
     "text": [
      "accept null hypothesis\n"
     ]
    }
   ],
   "source": [
    "if chisquare_test_statistics > critical_value:\n",
    "    print(\"reject null hypothesis\")\n",
    "else:\n",
    "    print(\"accept null hypothesis\")"
   ]
  },
  {
   "cell_type": "markdown",
   "id": "7c992e72-61c5-42c7-8e6c-44c63e5cb021",
   "metadata": {
    "tags": []
   },
   "source": [
    "## F-TEST"
   ]
  },
  {
   "cell_type": "code",
   "execution_count": 4,
   "id": "31b6c048-76c6-4f03-a7bd-32b67f9f871c",
   "metadata": {},
   "outputs": [],
   "source": [
    "## evedence to say that two population variances atre not equal"
   ]
  },
  {
   "cell_type": "code",
   "execution_count": 8,
   "id": "dd8c3cf4-0549-4eaa-b04d-83352940d851",
   "metadata": {},
   "outputs": [],
   "source": [
    "import scipy.stats as stat\n",
    "import numpy as np"
   ]
  },
  {
   "cell_type": "code",
   "execution_count": 9,
   "id": "fba97b17-612a-4630-bb21-7a0a18a55a1e",
   "metadata": {},
   "outputs": [],
   "source": [
    "worker_1=[20,25,22,30,25,45,45,37,41,50]"
   ]
  },
  {
   "cell_type": "code",
   "execution_count": 10,
   "id": "c25ed6d6-e3ef-4680-ae68-dd7bfe0bf0d1",
   "metadata": {},
   "outputs": [],
   "source": [
    "worker_2=[22,32,25,38,27,27,50,50,44,41]"
   ]
  },
  {
   "cell_type": "code",
   "execution_count": 11,
   "id": "ac8ed025-0a1d-4a44-aded-ae4a0db7af32",
   "metadata": {},
   "outputs": [],
   "source": [
    "f_value=np.var(worker_1)/np.var(worker_2)"
   ]
  },
  {
   "cell_type": "code",
   "execution_count": 12,
   "id": "c789d59e-1575-4d19-9698-234cc5f3445f",
   "metadata": {},
   "outputs": [
    {
     "data": {
      "text/plain": [
       "1.097710547833197"
      ]
     },
     "execution_count": 12,
     "metadata": {},
     "output_type": "execute_result"
    }
   ],
   "source": [
    "f_value"
   ]
  },
  {
   "cell_type": "code",
   "execution_count": 18,
   "id": "484a631e-884c-4d21-bf46-4650f52c834d",
   "metadata": {},
   "outputs": [],
   "source": [
    "df1=len(worker_1)-1\n",
    "df2=len(worker_2)-1\n",
    "significance_value=0.05"
   ]
  },
  {
   "cell_type": "code",
   "execution_count": 19,
   "id": "33dc71ec-11cd-4c34-83bb-dab94abd8b4c",
   "metadata": {},
   "outputs": [],
   "source": [
    "critical_value=stat.f.ppf(q=1-significance_value,dfn=df1,dfd=df2)"
   ]
  },
  {
   "cell_type": "code",
   "execution_count": 20,
   "id": "5002667c-da14-4747-b7c9-92e74cc4fd1e",
   "metadata": {},
   "outputs": [
    {
     "data": {
      "text/plain": [
       "3.178893104458269"
      ]
     },
     "execution_count": 20,
     "metadata": {},
     "output_type": "execute_result"
    }
   ],
   "source": [
    "critical_value"
   ]
  },
  {
   "cell_type": "code",
   "execution_count": 24,
   "id": "504f49bc-ea47-473d-b257-7d706388218f",
   "metadata": {},
   "outputs": [
    {
     "name": "stdout",
     "output_type": "stream",
     "text": [
      "we fail to reject null hypothesis\n"
     ]
    }
   ],
   "source": [
    "if f_value > critical_value:\n",
    "    print(\"reject null hypothesis\")\n",
    "else:\n",
    "    print(\"we fail to reject null hypothesis\")"
   ]
  },
  {
   "cell_type": "code",
   "execution_count": null,
   "id": "7884bd48-9c65-4a5f-9a71-b14b02039665",
   "metadata": {},
   "outputs": [],
   "source": []
  }
 ],
 "metadata": {
  "kernelspec": {
   "display_name": "Python 3 (ipykernel)",
   "language": "python",
   "name": "python3"
  },
  "language_info": {
   "codemirror_mode": {
    "name": "ipython",
    "version": 3
   },
   "file_extension": ".py",
   "mimetype": "text/x-python",
   "name": "python",
   "nbconvert_exporter": "python",
   "pygments_lexer": "ipython3",
   "version": "3.10.8"
  }
 },
 "nbformat": 4,
 "nbformat_minor": 5
}
