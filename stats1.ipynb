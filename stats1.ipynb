{
 "cells": [
  {
   "cell_type": "markdown",
   "id": "f5980186-06ca-4a49-ae20-4c05cb0c421a",
   "metadata": {},
   "source": [
    "## measure of central tendency"
   ]
  },
  {
   "cell_type": "code",
   "execution_count": 14,
   "id": "0e84998d-e3b9-40f6-9b0d-a62a9db208e6",
   "metadata": {},
   "outputs": [],
   "source": [
    "##mean\n",
    "age=[12,10,15,34,38,72,69]\n"
   ]
  },
  {
   "cell_type": "code",
   "execution_count": 15,
   "id": "fb6400e7-eaeb-4620-86e8-8e1cc83e24d9",
   "metadata": {},
   "outputs": [
    {
     "data": {
      "text/plain": [
       "35.714285714285715"
      ]
     },
     "execution_count": 15,
     "metadata": {},
     "output_type": "execute_result"
    }
   ],
   "source": [
    "(12+10+15+34+38+72+69)/7"
   ]
  },
  {
   "cell_type": "code",
   "execution_count": 16,
   "id": "fd547b99-ac96-41bf-8deb-87cbaf086aa1",
   "metadata": {},
   "outputs": [],
   "source": [
    "import numpy as np"
   ]
  },
  {
   "cell_type": "code",
   "execution_count": 17,
   "id": "6d36e728-068f-44d9-9faf-5ab237e2b3b1",
   "metadata": {},
   "outputs": [
    {
     "data": {
      "text/plain": [
       "35.714285714285715"
      ]
     },
     "execution_count": 17,
     "metadata": {},
     "output_type": "execute_result"
    }
   ],
   "source": [
    "np.mean(age)"
   ]
  },
  {
   "cell_type": "code",
   "execution_count": 18,
   "id": "878dc620-1f02-48ed-b1f8-00f587b9a988",
   "metadata": {},
   "outputs": [
    {
     "data": {
      "text/plain": [
       "34.0"
      ]
     },
     "execution_count": 18,
     "metadata": {},
     "output_type": "execute_result"
    }
   ],
   "source": [
    "##median\n",
    "np.median(age)"
   ]
  },
  {
   "cell_type": "code",
   "execution_count": 19,
   "id": "f07a05d0-68c1-4848-b92e-22acb3fa67e9",
   "metadata": {},
   "outputs": [],
   "source": [
    "##mode\n",
    "from scipy import stats\n",
    "weights=[10,20,20,30,40,40,40,50,80,80,100]"
   ]
  },
  {
   "cell_type": "code",
   "execution_count": 20,
   "id": "cb95fb84-4a04-4a38-9d38-48ed37b05af2",
   "metadata": {},
   "outputs": [
    {
     "name": "stderr",
     "output_type": "stream",
     "text": [
      "/tmp/ipykernel_192/4197893964.py:1: FutureWarning: Unlike other reduction functions (e.g. `skew`, `kurtosis`), the default behavior of `mode` typically preserves the axis it acts along. In SciPy 1.11.0, this behavior will change: the default value of `keepdims` will become False, the `axis` over which the statistic is taken will be eliminated, and the value None will no longer be accepted. Set `keepdims` to True or False to avoid this warning.\n",
      "  stats.mode(weights)\n"
     ]
    },
    {
     "data": {
      "text/plain": [
       "ModeResult(mode=array([40]), count=array([3]))"
      ]
     },
     "execution_count": 20,
     "metadata": {},
     "output_type": "execute_result"
    }
   ],
   "source": [
    "stats.mode(weights)"
   ]
  },
  {
   "cell_type": "markdown",
   "id": "46922fab-4b75-4bdf-a2ee-cfc099d8ae39",
   "metadata": {},
   "source": [
    "## measure of dispersion"
   ]
  },
  {
   "cell_type": "code",
   "execution_count": 21,
   "id": "5d7e3b5d-d3b6-4dde-8504-6506193f39bd",
   "metadata": {},
   "outputs": [],
   "source": [
    "ages_lst=[23,25,32,56,76,87,98,45,47]"
   ]
  },
  {
   "cell_type": "code",
   "execution_count": 22,
   "id": "219d68aa-381f-40b2-9136-58ea70865972",
   "metadata": {},
   "outputs": [],
   "source": [
    "mean=np.mean(ages_lst)"
   ]
  },
  {
   "cell_type": "code",
   "execution_count": 23,
   "id": "13cf2927-5449-445f-b9d6-4418cdeef37c",
   "metadata": {},
   "outputs": [
    {
     "data": {
      "text/plain": [
       "54.333333333333336"
      ]
     },
     "execution_count": 23,
     "metadata": {},
     "output_type": "execute_result"
    }
   ],
   "source": [
    "mean"
   ]
  },
  {
   "cell_type": "code",
   "execution_count": 24,
   "id": "fa2a84e3-178e-4d42-a004-cde3ed7c42e7",
   "metadata": {},
   "outputs": [],
   "source": [
    "variance=np.var(ages_lst)"
   ]
  },
  {
   "cell_type": "code",
   "execution_count": 25,
   "id": "e345c93a-8f6b-44b4-adba-ab4ca46364f8",
   "metadata": {},
   "outputs": [
    {
     "data": {
      "text/plain": [
       "658.6666666666666"
      ]
     },
     "execution_count": 25,
     "metadata": {},
     "output_type": "execute_result"
    }
   ],
   "source": [
    "variance"
   ]
  },
  {
   "cell_type": "code",
   "execution_count": 26,
   "id": "bcdf6644-b7fe-48ee-8f4a-c1321ca650a4",
   "metadata": {},
   "outputs": [],
   "source": [
    "std=np.std(ages_lst)"
   ]
  },
  {
   "cell_type": "code",
   "execution_count": 27,
   "id": "c02874e4-c0df-4566-bde9-c1baa62ab518",
   "metadata": {},
   "outputs": [
    {
     "data": {
      "text/plain": [
       "25.664502073226878"
      ]
     },
     "execution_count": 27,
     "metadata": {},
     "output_type": "execute_result"
    }
   ],
   "source": [
    "std"
   ]
  },
  {
   "cell_type": "code",
   "execution_count": 28,
   "id": "6e160c56-c447-4f9d-9f50-4aa0f6e8d0c2",
   "metadata": {},
   "outputs": [],
   "source": [
    "import pandas as pd"
   ]
  },
  {
   "cell_type": "code",
   "execution_count": 29,
   "id": "0f24fba9-a4a6-43e9-8086-f8790da1037c",
   "metadata": {},
   "outputs": [],
   "source": [
    "data=[[23,34,45],[27,31,49],[26,38,40]]"
   ]
  },
  {
   "cell_type": "code",
   "execution_count": 34,
   "id": "ab7138c1-ae5a-4223-b32e-c2a7a3ebbb4f",
   "metadata": {},
   "outputs": [],
   "source": [
    "df=pd.DataFrame(data,columns=['A','B','C'])"
   ]
  },
  {
   "cell_type": "code",
   "execution_count": 35,
   "id": "ce333c49-0071-48c7-ae1d-e6738056af19",
   "metadata": {},
   "outputs": [
    {
     "data": {
      "text/html": [
       "<div>\n",
       "<style scoped>\n",
       "    .dataframe tbody tr th:only-of-type {\n",
       "        vertical-align: middle;\n",
       "    }\n",
       "\n",
       "    .dataframe tbody tr th {\n",
       "        vertical-align: top;\n",
       "    }\n",
       "\n",
       "    .dataframe thead th {\n",
       "        text-align: right;\n",
       "    }\n",
       "</style>\n",
       "<table border=\"1\" class=\"dataframe\">\n",
       "  <thead>\n",
       "    <tr style=\"text-align: right;\">\n",
       "      <th></th>\n",
       "      <th>A</th>\n",
       "      <th>B</th>\n",
       "      <th>C</th>\n",
       "    </tr>\n",
       "  </thead>\n",
       "  <tbody>\n",
       "    <tr>\n",
       "      <th>0</th>\n",
       "      <td>23</td>\n",
       "      <td>34</td>\n",
       "      <td>45</td>\n",
       "    </tr>\n",
       "    <tr>\n",
       "      <th>1</th>\n",
       "      <td>27</td>\n",
       "      <td>31</td>\n",
       "      <td>49</td>\n",
       "    </tr>\n",
       "    <tr>\n",
       "      <th>2</th>\n",
       "      <td>26</td>\n",
       "      <td>38</td>\n",
       "      <td>40</td>\n",
       "    </tr>\n",
       "  </tbody>\n",
       "</table>\n",
       "</div>"
      ],
      "text/plain": [
       "    A   B   C\n",
       "0  23  34  45\n",
       "1  27  31  49\n",
       "2  26  38  40"
      ]
     },
     "execution_count": 35,
     "metadata": {},
     "output_type": "execute_result"
    }
   ],
   "source": [
    "df"
   ]
  },
  {
   "cell_type": "code",
   "execution_count": 36,
   "id": "a0ab1fea-3234-4e85-bbb5-4c612ce68f1b",
   "metadata": {},
   "outputs": [
    {
     "data": {
      "text/plain": [
       "A     4.333333\n",
       "B    12.333333\n",
       "C    20.333333\n",
       "dtype: float64"
      ]
     },
     "execution_count": 36,
     "metadata": {},
     "output_type": "execute_result"
    }
   ],
   "source": [
    "df.var()"
   ]
  },
  {
   "cell_type": "code",
   "execution_count": 38,
   "id": "3e883570-436c-4827-a0d0-f2450f2d2c41",
   "metadata": {},
   "outputs": [
    {
     "data": {
      "text/plain": [
       "A     4.333333\n",
       "B    12.333333\n",
       "C    20.333333\n",
       "dtype: float64"
      ]
     },
     "execution_count": 38,
     "metadata": {},
     "output_type": "execute_result"
    }
   ],
   "source": [
    "df.var(axis=0)"
   ]
  },
  {
   "cell_type": "code",
   "execution_count": 40,
   "id": "b22a1cd5-0c2a-4cf1-bc95-244b63247b41",
   "metadata": {},
   "outputs": [
    {
     "data": {
      "text/plain": [
       "0    121.000000\n",
       "1    137.333333\n",
       "2     57.333333\n",
       "dtype: float64"
      ]
     },
     "execution_count": 40,
     "metadata": {},
     "output_type": "execute_result"
    }
   ],
   "source": [
    "##row wise\n",
    "df.var(axis=1)"
   ]
  },
  {
   "cell_type": "code",
   "execution_count": null,
   "id": "b0c6acd9-db30-4ab7-aeb3-dd9bf20be006",
   "metadata": {},
   "outputs": [],
   "source": []
  }
 ],
 "metadata": {
  "kernelspec": {
   "display_name": "Python 3 (ipykernel)",
   "language": "python",
   "name": "python3"
  },
  "language_info": {
   "codemirror_mode": {
    "name": "ipython",
    "version": 3
   },
   "file_extension": ".py",
   "mimetype": "text/x-python",
   "name": "python",
   "nbconvert_exporter": "python",
   "pygments_lexer": "ipython3",
   "version": "3.10.8"
  }
 },
 "nbformat": 4,
 "nbformat_minor": 5
}
