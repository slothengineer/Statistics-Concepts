{
 "cells": [
  {
   "cell_type": "markdown",
   "id": "db9fc66f-e437-48af-a8d8-276a782292d2",
   "metadata": {},
   "source": [
    "### Write a Python function that takes in two arrays of data and calculates the F-value for a variance ratio test. The function should return the F-value and the corresponding p-value for the test."
   ]
  },
  {
   "cell_type": "code",
   "execution_count": 3,
   "id": "505c9bdf-8a80-4ad6-ad58-794107d65ddb",
   "metadata": {},
   "outputs": [
    {
     "name": "stdout",
     "output_type": "stream",
     "text": [
      "F-value: 0.747967479674797\n",
      "p-value: 0.6073901417485251\n"
     ]
    }
   ],
   "source": [
    "import numpy as np\n",
    "from scipy.stats import f\n",
    "\n",
    "def variance_ratio_test(array1, array2):\n",
    "    \n",
    "    variance1 = np.var(array1, ddof=1)\n",
    "    variance2 = np.var(array2, ddof=1)\n",
    "    \n",
    "    f_value = variance1 / variance2\n",
    "    \n",
    "    df1 = len(array1) - 1\n",
    "    df2 = len(array2) - 1\n",
    "    \n",
    "    p_value = 1 - f.cdf(f_value, df1, df2)\n",
    "    \n",
    "    return f_value, p_value\n",
    "\n",
    "data1 = np.array([1.2, 1.5, 1.8, 2.0, 1.6])\n",
    "data2 = np.array([1.0, 1.4, 1.7, 1.9, 1.3])\n",
    "\n",
    "f_value, p_value = variance_ratio_test(data1, data2)\n",
    "print(\"F-value:\", f_value)\n",
    "print(\"p-value:\", p_value)"
   ]
  },
  {
   "cell_type": "markdown",
   "id": "0bb69d90-d157-4947-84f9-144567bffa90",
   "metadata": {},
   "source": [
    "### Given a significance level of 0.05 and the degrees of freedom for the numerator and denominator of an F-distribution, write a Python function that returns the critical F-value for a two-tailed test."
   ]
  },
  {
   "cell_type": "code",
   "execution_count": 4,
   "id": "0ae2b2db-e7e6-4565-81de-8cac338b2ad3",
   "metadata": {},
   "outputs": [
    {
     "name": "stdout",
     "output_type": "stream",
     "text": [
      "Critical F-value: 4.474184809637748\n"
     ]
    }
   ],
   "source": [
    "from scipy.stats import f\n",
    "\n",
    "def critical_f_value(alpha, dfn, dfd):\n",
    "    critical_value = f.ppf(1 - alpha / 2, dfn, dfd)\n",
    "    return critical_value\n",
    "\n",
    "alpha = 0.05\n",
    "dfn = 3\n",
    "dfd = 12\n",
    "\n",
    "critical_value = critical_f_value(alpha, dfn, dfd)\n",
    "print(\"Critical F-value:\", critical_value)"
   ]
  },
  {
   "cell_type": "markdown",
   "id": "98713a3b-d6a1-4ee5-9102-fa8163fa685f",
   "metadata": {},
   "source": [
    "###  Write a Python program that generates random samples from two normal distributions with known variances and uses an F-test to determine if the variances are equal. The program should output the Fvalue, degrees of freedom, and p-value for the test."
   ]
  },
  {
   "cell_type": "code",
   "execution_count": 8,
   "id": "dc87221f-5e8e-4b7d-982c-89d128596425",
   "metadata": {},
   "outputs": [
    {
     "name": "stdout",
     "output_type": "stream",
     "text": [
      "F-value: 0.4371195342600079\n",
      "Degrees of freedom (numerator): 19\n",
      "Degrees of freedom (denominator): 19\n",
      "p-value: 0.07910528306062653\n",
      "Fail to reject the null hypothesis: Variances are equal.\n"
     ]
    }
   ],
   "source": [
    "import numpy as np\n",
    "from scipy.stats import f\n",
    "\n",
    "def perform_f_test(data1, data2):\n",
    "    \n",
    "    variance1 = np.var(data1, ddof=1)\n",
    "    variance2 = np.var(data2, ddof=1)\n",
    "    \n",
    "    dfn = len(data1) - 1\n",
    "    dfd = len(data2) - 1\n",
    "    \n",
    "    f_value = variance1 / variance2\n",
    "\n",
    "    p_value = 2 * min(f.cdf(f_value, dfn, dfd), 1 - f.cdf(f_value, dfn, dfd))\n",
    "    \n",
    "    return f_value, dfn, dfd, p_value\n",
    "\n",
    "np.random.seed(42)\n",
    "\n",
    "sample_size = 20\n",
    "mean1 = 0\n",
    "std_dev1 = 1\n",
    "mean2 = 0\n",
    "std_dev2 = 1.5\n",
    "\n",
    "data1 = np.random.normal(mean1, std_dev1, sample_size)\n",
    "data2 = np.random.normal(mean2, std_dev2, sample_size)\n",
    "\n",
    "f_value, dfn, dfd, p_value = perform_f_test(data1, data2)\n",
    "\n",
    "print(\"F-value:\", f_value)\n",
    "print(\"Degrees of freedom (numerator):\", dfn)\n",
    "print(\"Degrees of freedom (denominator):\", dfd)\n",
    "print(\"p-value:\", p_value)\n",
    "\n",
    "alpha = 0.05\n",
    "if p_value < alpha:\n",
    "    print(\"Reject the null hypothesis: Variances are not equal.\")\n",
    "else:\n",
    "    print(\"Fail to reject the null hypothesis: Variances are equal.\")"
   ]
  },
  {
   "cell_type": "markdown",
   "id": "675e0f7a-fcb7-46d2-b996-3aac79d344f8",
   "metadata": {},
   "source": [
    "The reason the means are set to zero in this example code is for simplicity and to create a scenario where we're only comparing the variability between the two distributions. However, the means being zero doesn't impact the validity of the F-test itself, as the test specifically focuses on variance comparison."
   ]
  },
  {
   "cell_type": "markdown",
   "id": "1dc178b7-acb1-4a9a-aa7f-420e01088ce5",
   "metadata": {},
   "source": [
    "### The variances of two populations are known to be 10 and 15. A sample of 12 observations is taken from each population. Conduct an F-test at the 5% significance level to determine if the variances are significantly different."
   ]
  },
  {
   "cell_type": "code",
   "execution_count": 9,
   "id": "ba2812a2-1229-47da-aa85-4ae4095ae063",
   "metadata": {},
   "outputs": [
    {
     "name": "stdout",
     "output_type": "stream",
     "text": [
      "Fail to reject the null hypothesis: Variances are not significantly different.\n"
     ]
    }
   ],
   "source": [
    "from scipy.stats import f\n",
    "\n",
    "variance1 = 10\n",
    "variance2 = 15\n",
    "sample_size = 12\n",
    "alpha = 0.05\n",
    "\n",
    "larger_variance = max(variance1, variance2)\n",
    "smaller_variance = min(variance1, variance2)\n",
    "f_statistic = larger_variance / smaller_variance\n",
    "\n",
    "dfn = sample_size - 1\n",
    "dfd = sample_size - 1\n",
    "\n",
    "critical_value = critical_f_value(alpha, dfn, dfd)\n",
    "\n",
    "if f_statistic > critical_value or 1/f_statistic > critical_value:\n",
    "    print(\"Reject the null hypothesis: Variances are significantly different.\")\n",
    "else:\n",
    "    print(\"Fail to reject the null hypothesis: Variances are not significantly different.\")"
   ]
  },
  {
   "cell_type": "markdown",
   "id": "38981c79-775e-47f5-9761-b5463f8fa838",
   "metadata": {},
   "source": [
    "### A manufacturer claims that the variance of the diameter of a certain product is 0.005. A sample of 25 products is taken, and the sample variance is found to be 0.006. Conduct an F-test at the 1% significance level to determine if the claim is justified."
   ]
  },
  {
   "cell_type": "code",
   "execution_count": 10,
   "id": "77ca385a-5fd3-44c4-bf74-b864b0a4323c",
   "metadata": {},
   "outputs": [
    {
     "name": "stdout",
     "output_type": "stream",
     "text": [
      "Fail to reject the null hypothesis: The claim is justified.\n"
     ]
    }
   ],
   "source": [
    "claimed_variance = 0.005\n",
    "sample_variance = 0.006\n",
    "sample_size = 25\n",
    "alpha = 0.01\n",
    "\n",
    "f_statistic = sample_variance / claimed_variance\n",
    "\n",
    "dfn = sample_size - 1\n",
    "dfd = sample_size - 1\n",
    "\n",
    "critical_value = critical_f_value(alpha, dfn, dfd)\n",
    "\n",
    "if f_statistic > critical_value or 1/f_statistic > critical_value:\n",
    "    print(\"Reject the null hypothesis: The claim is not justified.\")\n",
    "else:\n",
    "    print(\"Fail to reject the null hypothesis: The claim is justified.\")"
   ]
  },
  {
   "cell_type": "markdown",
   "id": "8c36b46e-bfaf-4f26-9a83-44c6d75a09f4",
   "metadata": {},
   "source": [
    "### Write a Python function that takes in the degrees of freedom for the numerator and denominator of an F-distribution and calculates the mean and variance of the distribution. The function should return the mean and variance as a tuple."
   ]
  },
  {
   "cell_type": "code",
   "execution_count": 20,
   "id": "0bf2782a-aed5-40f5-83b6-d74c9f55ecdc",
   "metadata": {},
   "outputs": [
    {
     "name": "stdout",
     "output_type": "stream",
     "text": [
      "Mean & Variance: (1.25, 1.9097222222222223)\n"
     ]
    }
   ],
   "source": [
    "def f_distribution_mean_variance(dfn, dfd):\n",
    "    \n",
    "    if dfd <= 2:\n",
    "        raise ValueError(\"Denominator degrees of freedom must be greater than 2.\")\n",
    "    \n",
    "    mean = dfd / (dfd - 2)\n",
    "    variance = (2 * dfd ** 2 * (dfn + dfd - 2)) / (dfn * (dfd - 2) ** 2 * (dfd - 4))\n",
    "    \n",
    "    return mean, variance\n",
    "\n",
    "dfn = 3\n",
    "dfd = 10\n",
    "\n",
    "mean, variance = f_distribution_mean_variance(dfn, dfd)\n",
    "print(\"Mean & Variance:\",(mean, variance))"
   ]
  },
  {
   "cell_type": "markdown",
   "id": "e315efbb-83fd-421b-b0db-eed9864ce9d3",
   "metadata": {},
   "source": [
    "###  A random sample of 10 measurements is taken from a normal population with unknown variance. The sample variance is found to be 25. Another random sample of 15 measurements is taken from another normal population with unknown variance, and the sample variance is found to be 20. Conduct an F-test at the 10% significance level to determine if the variances are significantly different."
   ]
  },
  {
   "cell_type": "code",
   "execution_count": 22,
   "id": "222d08f0-f03a-4e51-af92-0c5dc7e7d843",
   "metadata": {},
   "outputs": [
    {
     "name": "stdout",
     "output_type": "stream",
     "text": [
      "Fail to reject the null hypothesis: Variances are not significantly different.\n"
     ]
    }
   ],
   "source": [
    "sample_variance1 = 25\n",
    "sample_size1 = 10\n",
    "sample_variance2 = 20\n",
    "sample_size2 = 15\n",
    "alpha = 0.10\n",
    "\n",
    "larger_sample_variance = max(sample_variance1, sample_variance2)\n",
    "smaller_sample_variance = min(sample_variance1, sample_variance2)\n",
    "f_statistic = larger_sample_variance / smaller_sample_variance\n",
    "\n",
    "dfn = sample_size1 - 1\n",
    "dfd = sample_size2 - 1\n",
    "\n",
    "critical_value = critical_f_value(alpha, dfn, dfd)\n",
    "\n",
    "if f_statistic > critical_value or 1/f_statistic > critical_value:\n",
    "    print(\"Reject the null hypothesis: Variances are significantly different.\")\n",
    "else:\n",
    "    print(\"Fail to reject the null hypothesis: Variances are not significantly different.\")"
   ]
  },
  {
   "cell_type": "markdown",
   "id": "6013ae16-1928-469d-94e0-6da048df6117",
   "metadata": {},
   "source": [
    "###  The following data represent the waiting times in minutes at two different restaurants on a Saturday night: Restaurant A: 24, 25, 28, 23, 22, 20, 27; Restaurant B: 31, 33, 35, 30, 32, 36. Conduct an F-test at the 5% significance level to determine if the variances are significantly different."
   ]
  },
  {
   "cell_type": "code",
   "execution_count": 23,
   "id": "6e4420f6-cdce-40a0-b5fd-e8797bd6a7f2",
   "metadata": {},
   "outputs": [
    {
     "name": "stdout",
     "output_type": "stream",
     "text": [
      "Fail to reject the null hypothesis: Variances are not significantly different.\n"
     ]
    }
   ],
   "source": [
    "import numpy as np\n",
    "\n",
    "waiting_times_a = np.array([24, 25, 28, 23, 22, 20, 27])\n",
    "waiting_times_b = np.array([31, 33, 35, 30, 32, 36])\n",
    "alpha = 0.05\n",
    "\n",
    "sample_variance_a = np.var(waiting_times_a, ddof=1)\n",
    "sample_size_a = len(waiting_times_a)\n",
    "sample_variance_b = np.var(waiting_times_b, ddof=1)\n",
    "sample_size_b = len(waiting_times_b)\n",
    "\n",
    "larger_sample_variance = max(sample_variance_a, sample_variance_b)\n",
    "smaller_sample_variance = min(sample_variance_a, sample_variance_b)\n",
    "f_statistic = larger_sample_variance / smaller_sample_variance\n",
    "\n",
    "dfn = sample_size_a - 1\n",
    "dfd = sample_size_b - 1\n",
    "\n",
    "critical_value = critical_f_value(alpha, dfn, dfd)\n",
    "\n",
    "if f_statistic > critical_value or 1/f_statistic > critical_value:\n",
    "    print(\"Reject the null hypothesis: Variances are significantly different.\")\n",
    "else:\n",
    "    print(\"Fail to reject the null hypothesis: Variances are not significantly different.\")"
   ]
  },
  {
   "cell_type": "markdown",
   "id": "a55bc915-082f-4a6f-bb4d-29c77a542472",
   "metadata": {},
   "source": [
    "###  The following data represent the test scores of two groups of students: Group A: 80, 85, 90, 92, 87, 83; Group B: 75, 78, 82, 79, 81, 84. Conduct an F-test at the 1% significance level to determine if the variances are significantly different."
   ]
  },
  {
   "cell_type": "code",
   "execution_count": 24,
   "id": "d7a64f91-2d53-43c8-8332-8c99dd29a8f0",
   "metadata": {},
   "outputs": [
    {
     "name": "stdout",
     "output_type": "stream",
     "text": [
      "Fail to reject the null hypothesis: Variances are not significantly different.\n"
     ]
    }
   ],
   "source": [
    "import numpy as np\n",
    "\n",
    "scores_group_a = np.array([80, 85, 90, 92, 87, 83])\n",
    "scores_group_b = np.array([75, 78, 82, 79, 81, 84])\n",
    "alpha = 0.01\n",
    "\n",
    "sample_variance_group_a = np.var(scores_group_a, ddof=1)\n",
    "sample_size_group_a = len(scores_group_a)\n",
    "sample_variance_group_b = np.var(scores_group_b, ddof=1)\n",
    "sample_size_group_b = len(scores_group_b)\n",
    "\n",
    "larger_sample_variance = max(sample_variance_group_a, sample_variance_group_b)\n",
    "smaller_sample_variance = min(sample_variance_group_a, sample_variance_group_b)\n",
    "f_statistic = larger_sample_variance / smaller_sample_variance\n",
    "\n",
    "dfn = sample_size_group_a - 1\n",
    "dfd = sample_size_group_b - 1\n",
    "\n",
    "critical_value = critical_f_value(alpha, dfn, dfd)\n",
    "\n",
    "if f_statistic > critical_value or 1/f_statistic > critical_value:\n",
    "    print(\"Reject the null hypothesis: Variances are significantly different.\")\n",
    "else:\n",
    "    print(\"Fail to reject the null hypothesis: Variances are not significantly different.\")"
   ]
  },
  {
   "cell_type": "code",
   "execution_count": null,
   "id": "3bc0782f-edf0-4017-a6a8-7484f6aba3c5",
   "metadata": {},
   "outputs": [],
   "source": []
  }
 ],
 "metadata": {
  "kernelspec": {
   "display_name": "Python 3 (ipykernel)",
   "language": "python",
   "name": "python3"
  },
  "language_info": {
   "codemirror_mode": {
    "name": "ipython",
    "version": 3
   },
   "file_extension": ".py",
   "mimetype": "text/x-python",
   "name": "python",
   "nbconvert_exporter": "python",
   "pygments_lexer": "ipython3",
   "version": "3.10.8"
  }
 },
 "nbformat": 4,
 "nbformat_minor": 5
}
